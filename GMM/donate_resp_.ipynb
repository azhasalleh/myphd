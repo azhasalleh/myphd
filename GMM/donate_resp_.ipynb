{
 "cells": [
  {
   "cell_type": "code",
   "execution_count": null,
   "metadata": {},
   "outputs": [],
   "source": []
  },
  {
   "cell_type": "code",
   "execution_count": 21,
   "metadata": {},
   "outputs": [
    {
     "name": "stdout",
     "output_type": "stream",
     "text": [
      "temp_resp after: \n",
      " [[1. 1. 0.]\n",
      " [0. 0. 0.]\n",
      " [1. 1. 0.]\n",
      " [1. 0. 0.]\n",
      " [1. 0. 0.]]\n",
      "resp after: \n",
      "  [[0.55802307 0.40857575 0.03340118]\n",
      " [0.74859379 0.20161706 0.04978915]\n",
      " [0.73547618 0.19266626 0.07185756]\n",
      " [0.86730087 0.07896252 0.05373661]\n",
      " [0.87337118 0.05888063 0.06774819]]\n",
      "5 3\n",
      "[0.55802307 0.40857575 0.        ]\n",
      "0.96659882\n",
      "[0.57730576 0.42269424 0.        ]\n",
      "[0. 0. 0.]\n",
      "0.0\n",
      "[0.73547618 0.19266626 0.        ]\n",
      "0.92814244\n",
      "[0.79241736 0.20758264 0.        ]\n",
      "[0.86730087 0.         0.        ]\n",
      "0.86730087\n",
      "[1. 0. 0.]\n",
      "[0.87337118 0.         0.        ]\n",
      "0.87337118\n",
      "[1. 0. 0.]\n"
     ]
    }
   ],
   "source": [
    "import numpy as np\n",
    "import pandas as pd\n",
    "\n",
    "resp = np.array([[0.55802307, 0.40857575, 0.03340118],\n",
    "                 [0.74859379, 0.20161706, 0.04978915],\n",
    "                 [0.73547618, 0.19266626, 0.07185756],\n",
    "                 [0.86730087, 0.07896252, 0.05373661],\n",
    "                 [0.87337118, 0.05888063, 0.06774819]])         \n",
    "\n",
    "new_resp = np.array([[0.55802307, 0.40857575, 0.        ],\n",
    "                     [0., 0., 0.        ],\n",
    "                     [0.73547618, 0.19266626, 0.        ],\n",
    "                     [0.86730087, 0.,         0  ],\n",
    "                     [0.87337118, 0.,        0.0 ]])\n",
    "\n",
    "# print(new_resp)\n",
    "\n",
    "#Start of donate function\n",
    "temp_resp=new_resp.copy()\n",
    "# print(\"temp_resp before :\\n\", temp_resp)\n",
    "#change all the value > 0 in temp_resp to 1 for calculation purpose\n",
    "temp_resp[temp_resp > 0] = 1\n",
    "# print(\"temp_resp before  :\\n\", temp_resp)\n",
    "# print(\"resp before: \\n \", resp)\n",
    "\n",
    "#Remove all rows with the same index where all temp_resp values = 0\n",
    "# resp = resp[~np.all(temp_resp == 0, axis=1)]\n",
    "# temp_resp = temp_resp[~np.all(temp_resp == 0, axis=1)]\n",
    "\n",
    "print(\"temp_resp after: \\n\", temp_resp)\n",
    "print(\"resp after: \\n \", resp)\n",
    "\n",
    "n_sample,k_cluster  = temp_resp.shape\n",
    "print(n_sample,k_cluster)\n",
    "for i in range(n_sample):\n",
    "    mul_resp=0\n",
    "    sum_resp=0\n",
    "    mul_resp = np.multiply(resp[i],temp_resp[i])\n",
    "    print(mul_resp)\n",
    "   \n",
    "    sum_resp = sum(np.multiply(resp[i],temp_resp[i]))\n",
    "    print(sum_resp)\n",
    "    if (np.count_nonzero(temp_resp[i])==0):\n",
    "        temp_resp[i] = 0\n",
    "    else:\n",
    "        temp_resp[i] = mul_resp/sum_resp\n",
    "        print(temp_resp[i])\n",
    "   \n",
    "\n",
    "# print(new_resp,\"\\n\")\n",
    "# print(temp_resp,\"\\n\")\n",
    "\n",
    "# print(\"Alhamdulillah...Thank You Allah!\") \n",
    "        "
   ]
  },
  {
   "cell_type": "code",
   "execution_count": 13,
   "metadata": {},
   "outputs": [
    {
     "name": "stdout",
     "output_type": "stream",
     "text": [
      "(5, 3)\n"
     ]
    },
    {
     "data": {
      "text/plain": [
       "array([1., 0., 0., 0., 0., 0., 0., 0., 2., 3., 4.])"
      ]
     },
     "execution_count": 13,
     "metadata": {},
     "output_type": "execute_result"
    }
   ],
   "source": [
    "import numpy as np\n",
    "\n",
    "a = np.array([\n",
    "    [1, 0, 0],\n",
    "    [0, np.nan, 0],\n",
    "    [0, 0, 0],\n",
    "    [np.nan, np.nan, np.nan],\n",
    "    [2, 3, 4]\n",
    "])\n",
    "\n",
    "mask = np.all(np.isnan(a) ,axis=1)\n",
    "a[~mask]"
   ]
  },
  {
   "cell_type": "code",
   "execution_count": null,
   "metadata": {},
   "outputs": [],
   "source": [
    "from IPython.core.display import display, HTML\n",
    "display(HTML(\"<style>div.output_scroll { height: 44em; }</style>\"))"
   ]
  },
  {
   "cell_type": "code",
   "execution_count": null,
   "metadata": {},
   "outputs": [],
   "source": [
    "a1 = [1, 2, 1]\n",
    "a2 = [2, 2, 3]\n",
    "print (sum(np.multiply(a1, a2)))"
   ]
  },
  {
   "cell_type": "code",
   "execution_count": null,
   "metadata": {},
   "outputs": [],
   "source": [
    "\n",
    "# # Create an empty list\n",
    "# filter_new_resp = []\n",
    "# arr = np.array([[1, 2, 3], [4, 5, 6]])\n",
    "\n",
    "\n",
    "\n",
    "# for x in new_resp:\n",
    "#     print(x)\n",
    "#     for y in x:\n",
    "#         if y==0:\n",
    "#             new_resp_zero.append(x)\n",
    "#         else:\n",
    "#             new_resp_x_zero.append(x)\n",
    "\n",
    "# print(new_resp_zero)\n",
    "# print(new_resp_x_zero)\n",
    "        \n",
    "# arr = np.array([[1, 2, 3, 4], [5, 6, 7, 8]])\n",
    "\n",
    "# new_resp_zero = []\n",
    "# new_resp_x_zero = []\n",
    "# for idx, x in np.ndenumerate(new_resp):\n",
    "#     if x==0:\n",
    "# #         print(\"x==0:\",idx)\n",
    "# #         print(new_resp.item(idx))\n",
    "#         new_resp_zero.append(idx)\n",
    "#     else:\n",
    "# #         print(\"x!=0:\",idx)\n",
    "# #         print(new_resp.item(idx))\n",
    "#         new_resp_x_zero = new_resp_x_zero, idx\n",
    "        \n",
    "# print(new_resp_zero)\n",
    "# print(new_resp_x_zero)\n",
    "\n",
    "\n",
    "new_resp_x_zero =[]\n",
    "final_resp = new_resp.copy()\n",
    "for x in new_resp:\n",
    "#     print(x)  \n",
    "    np_x_zero = np.nonzero(x)[i] \n",
    "    new_resp_x_zero += [np_x_zero]\n",
    "    \n",
    "print(new_resp_x_zero)\n",
    "    \n",
    "\n",
    "# for i in range(len(new_resp_x_zero)):\n",
    "#     for j in range(len(new_resp_x_zero[i])):\n",
    "#         if len(new_resp_x_zero[i]) == 1:\n",
    "#             print(i, \" : \", j)\n",
    "#             new_resp.item((j,i)) = 1\n",
    "#         else:\n",
    "#             print(\"done\")\n",
    "\n",
    "\n"
   ]
  },
  {
   "cell_type": "code",
   "execution_count": null,
   "metadata": {},
   "outputs": [],
   "source": [
    "new_resp_zero = []\n",
    "new_resp_x_zero = []\n",
    "for idx, x in np.ndenumerate(new_resp):\n",
    "    if x==0:\n",
    "#         print(\"x==0:\",idx)\n",
    "#         print(new_resp.item(idx))\n",
    "        new_resp_zero.append(idx)\n",
    "    else:\n",
    "#         print(\"x!=0:\",idx)\n",
    "#         print(new_resp.item(idx))\n",
    "        new_resp_x_zero.append(idx)\n",
    "        \n",
    "# print(new_resp_zero)\n",
    "print(new_resp_x_zero)\n",
    "\n",
    "for idx in new_resp_x_zero:\n",
    "#     print(idx)\n",
    "    if idx[0]==0  :\n",
    "        print(new_resp.item(idx))\n",
    "    "
   ]
  },
  {
   "cell_type": "code",
   "execution_count": null,
   "metadata": {},
   "outputs": [],
   "source": [
    "new_resp_zero = []\n",
    "new_resp_x_zero = []\n",
    "for idx, x in np.ndenumerate(new_resp):\n",
    "    for i in range (len(new_resp)):\n",
    "        if x == 0:\n",
    "#           \n",
    "            new_resp_zero = (idx)\n",
    "            \n",
    "        else:\n",
    "            print(\"idx : \",idx)\n",
    "            resp_x_zero = idx\n",
    "            \n",
    "  \n",
    "            \n",
    "    \n",
    "#     new_resp_zero += [idx]\n",
    "#     print(new_resp_zero)\n",
    "#     print(idx[0])\n",
    "    \n",
    "#     if x==0:\n",
    "# # #         new_resp_zero.append(idx)\n",
    "#         np_zero = (idx)\n",
    "#         new_resp_zero += np_zero\n",
    "#         print(x)\n",
    "#         print(\"new_resp_zero : \",new_resp_zero)\n",
    "        \n",
    "#     else:\n",
    "# #         new_resp_zero.append(idx)\n",
    "#         np_x_zero = np.array(idx)\n",
    "#         new_resp_x_zero += [np_x_zero]\n",
    "# #         print(new_resp_x_zero)\n",
    "\n",
    "       "
   ]
  },
  {
   "cell_type": "code",
   "execution_count": null,
   "metadata": {},
   "outputs": [],
   "source": [
    "test_arr = np.array([[[0,1],[0,2]], [[1,1],[1,2]]])\n"
   ]
  },
  {
   "cell_type": "code",
   "execution_count": null,
   "metadata": {},
   "outputs": [],
   "source": [
    "print(len(new_resp[0]))\n",
    "print(new_resp[0,1])\n",
    "print(new_resp.item(0,1))"
   ]
  },
  {
   "cell_type": "code",
   "execution_count": null,
   "metadata": {},
   "outputs": [],
   "source": [
    "\n",
    "for i in range(np.size(new_resp, 0)):\n",
    "    \n",
    "    #check if only one new-resp is non zero \n",
    "    if (len(new_resp_x_zero[i])) == 1:\n",
    "        resp.item((idx) = 1\n",
    "    else:\n",
    "        \n",
    "                  \n",
    "                  \n",
    "        \n",
    "#         for j in range (np.size(new_resp, 1)):\n",
    "              \n",
    "#             print(new_resp_x_zero[i])\n",
    "# #         print(new_resp((i)))\n",
    "#         print(new_resp.item((i, j)))\n"
   ]
  }
 ],
 "metadata": {
  "kernelspec": {
   "display_name": "Python 3",
   "language": "python",
   "name": "python3"
  },
  "language_info": {
   "codemirror_mode": {
    "name": "ipython",
    "version": 3
   },
   "file_extension": ".py",
   "mimetype": "text/x-python",
   "name": "python",
   "nbconvert_exporter": "python",
   "pygments_lexer": "ipython3",
   "version": "3.7.3"
  }
 },
 "nbformat": 4,
 "nbformat_minor": 2
}
